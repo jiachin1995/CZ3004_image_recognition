{
  "nbformat": 4,
  "nbformat_minor": 0,
  "metadata": {
    "kernelspec": {
      "display_name": "Python 3",
      "language": "python",
      "name": "python3"
    },
    "language_info": {
      "codemirror_mode": {
        "name": "ipython",
        "version": 3
      },
      "file_extension": ".py",
      "mimetype": "text/x-python",
      "name": "python",
      "nbconvert_exporter": "python",
      "pygments_lexer": "ipython3",
      "version": "3.7.4"
    },
    "colab": {
      "name": "Reading files as data in keras.ipynb",
      "provenance": []
    }
  },
  "cells": [
    {
      "cell_type": "code",
      "metadata": {
        "id": "pYmP_lYDVChG",
        "colab_type": "code",
        "outputId": "11ec5ed2-b8c6-44ee-fcbf-8ff0ff134df5",
        "colab": {
          "base_uri": "https://localhost:8080/",
          "height": 34
        }
      },
      "source": [
        "import pathlib\n",
        "from pathlib import Path\n",
        "import os\n",
        "import numpy as np\n",
        "import tensorflow as tf\n",
        "\n",
        "from keras.models import Sequential, Model\n",
        "from keras.layers import Input, Dense, Dropout, Flatten, Conv2D, MaxPooling2D\n",
        "import matplotlib.pyplot as plt\n",
        "from keras.utils import plot_model"
      ],
      "execution_count": 1,
      "outputs": [
        {
          "output_type": "stream",
          "text": [
            "Using TensorFlow backend.\n"
          ],
          "name": "stderr"
        }
      ]
    },
    {
      "cell_type": "code",
      "metadata": {
        "id": "FRYAfcu1WnFE",
        "colab_type": "code",
        "outputId": "e1bf0774-8652-470e-b250-f910af256315",
        "colab": {
          "base_uri": "https://localhost:8080/",
          "height": 34
        }
      },
      "source": [
        "from google.colab import drive\n",
        "drive.mount('/content/drive')"
      ],
      "execution_count": 2,
      "outputs": [
        {
          "output_type": "stream",
          "text": [
            "Drive already mounted at /content/drive; to attempt to forcibly remount, call drive.mount(\"/content/drive\", force_remount=True).\n"
          ],
          "name": "stdout"
        }
      ]
    },
    {
      "cell_type": "markdown",
      "metadata": {
        "id": "ScViUunDVChJ",
        "colab_type": "text"
      },
      "source": [
        "The following line uses the absolute path directory to read in where the training photos are saved, remember to put an 'r' in front for non-linux devices."
      ]
    },
    {
      "cell_type": "code",
      "metadata": {
        "id": "CrPhn5VDVChK",
        "colab_type": "code",
        "colab": {}
      },
      "source": [
        "train = Path('/content/drive/My Drive/Colab Notebooks/binary_train')\n",
        "test = Path('/content/drive/My Drive/Colab Notebooks/binary_test')\n",
        "\n",
        "train_count = len(list(train.glob('*/*.jpg')))\n",
        "test_count = len(list(test.glob('*/*.jpg')))"
      ],
      "execution_count": 0,
      "outputs": []
    },
    {
      "cell_type": "code",
      "metadata": {
        "id": "HLdLRvZzVChM",
        "colab_type": "code",
        "outputId": "30b749b6-7c53-4bc7-f3ec-7d495960222b",
        "colab": {
          "base_uri": "https://localhost:8080/",
          "height": 34
        }
      },
      "source": [
        "train_count\n",
        "#test_count"
      ],
      "execution_count": 24,
      "outputs": [
        {
          "output_type": "execute_result",
          "data": {
            "text/plain": [
              "418"
            ]
          },
          "metadata": {
            "tags": []
          },
          "execution_count": 24
        }
      ]
    },
    {
      "cell_type": "code",
      "metadata": {
        "id": "pMsSHr50VChP",
        "colab_type": "code",
        "outputId": "b3b7c7ce-2cec-4ecc-a399-ed1c1215a9b0",
        "colab": {
          "base_uri": "https://localhost:8080/",
          "height": 34
        }
      },
      "source": [
        "CLASS_NAMES = np.array([item.name for item in train.glob('*') if item.name != \"LICENSE.txt\"])\n",
        "CLASS_NAMES"
      ],
      "execution_count": 25,
      "outputs": [
        {
          "output_type": "execute_result",
          "data": {
            "text/plain": [
              "array(['images', 'default'], dtype='<U7')"
            ]
          },
          "metadata": {
            "tags": []
          },
          "execution_count": 25
        }
      ]
    },
    {
      "cell_type": "code",
      "metadata": {
        "id": "6q2AFxBjVChS",
        "colab_type": "code",
        "colab": {}
      },
      "source": [
        "BATCH_SIZE = 32\n",
        "IMG_HEIGHT = 648\n",
        "IMG_WIDTH = 864\n",
        "INPUT_HEIGHT = 24\n",
        "INPUT_WIDTH = 32\n",
        "\n",
        "STEPS_PER_EPOCH = np.ceil(train_count/BATCH_SIZE)"
      ],
      "execution_count": 0,
      "outputs": []
    },
    {
      "cell_type": "code",
      "metadata": {
        "id": "s8lGBqY6VChU",
        "colab_type": "code",
        "outputId": "89c3eeaf-da27-4d49-f2c7-5463a95270a2",
        "colab": {
          "base_uri": "https://localhost:8080/",
          "height": 51
        }
      },
      "source": [
        "train_datagen = tf.keras.preprocessing.image.ImageDataGenerator(rescale=1./255)\n",
        "\n",
        "train_generator = train_datagen.flow_from_directory(directory=str(train),\n",
        "                                                     batch_size=BATCH_SIZE,\n",
        "                                                     shuffle=True,\n",
        "                                                     target_size=(INPUT_HEIGHT, INPUT_WIDTH),\n",
        "                                                     classes = list(CLASS_NAMES))\n",
        "\n",
        "\n",
        "test_datagen = tf.keras.preprocessing.image.ImageDataGenerator(rescale=1./255)\n",
        "\n",
        "validation_generator = test_datagen.flow_from_directory(directory=str(test),\n",
        "                                                     batch_size=int(BATCH_SIZE/3),\n",
        "                                                     shuffle=True,\n",
        "                                                     target_size=(INPUT_HEIGHT, INPUT_WIDTH),\n",
        "                                                     classes = list(CLASS_NAMES))\n",
        "\n",
        "\n"
      ],
      "execution_count": 7,
      "outputs": [
        {
          "output_type": "stream",
          "text": [
            "Found 418 images belonging to 16 classes.\n",
            "Found 59 images belonging to 16 classes.\n"
          ],
          "name": "stdout"
        }
      ]
    },
    {
      "cell_type": "code",
      "metadata": {
        "id": "L6kYAJb1ONCG",
        "colab_type": "code",
        "colab": {
          "base_uri": "https://localhost:8080/",
          "height": 231
        },
        "outputId": "4fabb7e3-c657-4914-f9e0-2ee9ed82a17a"
      },
      "source": [
        "A1 = Input(shape=(INPUT_HEIGHT,INPUT_WIDTH,3),name='A1')\n",
        "A2 = Conv2D(32, (3, 4), \n",
        "                 activation='relu', \n",
        "                 padding='same', \n",
        "                 name='A2')\n",
        "A3 = Conv2D(32, (3, 4), activation='relu', padding='same',name='A3')(A2)\n",
        "A4 = MaxPooling2D(pool_size=(2, 2),name='A4')(A3)\n",
        "A5 = Dropout(0.25,name='A5')(A4)\n",
        "A6 = Flatten(name='A6')(A5)\n",
        "A7 = Dense(512, activation='relu',name='A7')(A6)\n",
        "A8 = Dropout(0.5,name='A8')(A7)\n",
        "A9 = Dense(16, activation='tanh',name='A9')(A8)\n",
        "\n",
        "\n",
        "B2 = Dense(40, activation='relu',name='B2')(A2)\n",
        "B3 = Dense(30, activation='relu',name='B3')(B2)\n",
        "\n",
        "model = Model(inputs=[A1],outputs=[A3,B3])\n",
        "plot_model(model,show_shapes=True)"
      ],
      "execution_count": 26,
      "outputs": [
        {
          "output_type": "error",
          "ename": "NameError",
          "evalue": "ignored",
          "traceback": [
            "\u001b[0;31m---------------------------------------------------------------------------\u001b[0m",
            "\u001b[0;31mNameError\u001b[0m                                 Traceback (most recent call last)",
            "\u001b[0;32m<ipython-input-26-6b30d3bd3209>\u001b[0m in \u001b[0;36m<module>\u001b[0;34m()\u001b[0m\n\u001b[0;32m----> 1\u001b[0;31m \u001b[0mA1\u001b[0m \u001b[0;34m=\u001b[0m \u001b[0mInput\u001b[0m\u001b[0;34m(\u001b[0m\u001b[0mshape\u001b[0m\u001b[0;34m=\u001b[0m\u001b[0;34m(\u001b[0m\u001b[0mINPUT_HEIGHT\u001b[0m\u001b[0;34m,\u001b[0m\u001b[0mINPUT_WIDTH\u001b[0m\u001b[0;34m,\u001b[0m\u001b[0;36m3\u001b[0m\u001b[0;34m)\u001b[0m\u001b[0;34m,\u001b[0m\u001b[0mname\u001b[0m\u001b[0;34m=\u001b[0m\u001b[0;34m'A1'\u001b[0m\u001b[0;34m)\u001b[0m\u001b[0;34m\u001b[0m\u001b[0;34m\u001b[0m\u001b[0m\n\u001b[0m\u001b[1;32m      2\u001b[0m A2 = Conv2D(32, (3, 4), \n\u001b[1;32m      3\u001b[0m                  \u001b[0mactivation\u001b[0m\u001b[0;34m=\u001b[0m\u001b[0;34m'relu'\u001b[0m\u001b[0;34m,\u001b[0m\u001b[0;34m\u001b[0m\u001b[0;34m\u001b[0m\u001b[0m\n\u001b[1;32m      4\u001b[0m                  \u001b[0mpadding\u001b[0m\u001b[0;34m=\u001b[0m\u001b[0;34m'same'\u001b[0m\u001b[0;34m,\u001b[0m\u001b[0;34m\u001b[0m\u001b[0;34m\u001b[0m\u001b[0m\n\u001b[1;32m      5\u001b[0m                  name='A2')\n",
            "\u001b[0;31mNameError\u001b[0m: name 'Input' is not defined"
          ]
        }
      ]
    },
    {
      "cell_type": "code",
      "metadata": {
        "id": "Sk-y769UVChX",
        "colab_type": "code",
        "outputId": "ee87428f-f337-4db8-b7c4-98057cad7529",
        "colab": {
          "base_uri": "https://localhost:8080/",
          "height": 258
        }
      },
      "source": [
        "\"\"\"\n",
        "model = Sequential()\n",
        "\n",
        "model.add(Conv2D(32, (3, 4), \n",
        "                 activation='relu', \n",
        "                 padding='same', \n",
        "                 input_shape=(INPUT_HEIGHT,INPUT_WIDTH,3)))\n",
        "model.add(Conv2D(32, (3, 4), activation='relu', padding='same'))\n",
        "\n",
        "model.add(MaxPooling2D(pool_size=(2, 2)))\n",
        "model.add(Dropout(0.25))\n",
        "\n",
        "model.add(Conv2D(64, (3, 4), activation='relu', padding='same'))\n",
        "model.add(Conv2D(64, (3, 4), activation='relu', padding='same'))\n",
        "model.add(MaxPooling2D(pool_size=(2, 2)))\n",
        "model.add(Dropout(0.25))\n",
        "\n",
        "model.add(Flatten())\n",
        "model.add(Dense(512, activation='relu'))\n",
        "model.add(Dropout(0.5))\n",
        "\n",
        "model.add(Dense(16, activation='softmax'))\n",
        "\"\"\""
      ],
      "execution_count": 8,
      "outputs": [
        {
          "output_type": "stream",
          "text": [
            "WARNING:tensorflow:From /usr/local/lib/python3.6/dist-packages/keras/backend/tensorflow_backend.py:66: The name tf.get_default_graph is deprecated. Please use tf.compat.v1.get_default_graph instead.\n",
            "\n",
            "WARNING:tensorflow:From /usr/local/lib/python3.6/dist-packages/keras/backend/tensorflow_backend.py:541: The name tf.placeholder is deprecated. Please use tf.compat.v1.placeholder instead.\n",
            "\n",
            "WARNING:tensorflow:From /usr/local/lib/python3.6/dist-packages/keras/backend/tensorflow_backend.py:4432: The name tf.random_uniform is deprecated. Please use tf.random.uniform instead.\n",
            "\n",
            "WARNING:tensorflow:From /usr/local/lib/python3.6/dist-packages/keras/backend/tensorflow_backend.py:4267: The name tf.nn.max_pool is deprecated. Please use tf.nn.max_pool2d instead.\n",
            "\n",
            "WARNING:tensorflow:From /usr/local/lib/python3.6/dist-packages/keras/backend/tensorflow_backend.py:148: The name tf.placeholder_with_default is deprecated. Please use tf.compat.v1.placeholder_with_default instead.\n",
            "\n",
            "WARNING:tensorflow:From /usr/local/lib/python3.6/dist-packages/keras/backend/tensorflow_backend.py:3733: calling dropout (from tensorflow.python.ops.nn_ops) with keep_prob is deprecated and will be removed in a future version.\n",
            "Instructions for updating:\n",
            "Please use `rate` instead of `keep_prob`. Rate should be set to `rate = 1 - keep_prob`.\n"
          ],
          "name": "stdout"
        }
      ]
    },
    {
      "cell_type": "code",
      "metadata": {
        "id": "-yYgL1lv0DGI",
        "colab_type": "code",
        "outputId": "902ce0a0-34f7-4e59-9d79-d52e9e7ffb41",
        "colab": {
          "base_uri": "https://localhost:8080/",
          "height": 561
        }
      },
      "source": [
        "model.summary()"
      ],
      "execution_count": 9,
      "outputs": [
        {
          "output_type": "stream",
          "text": [
            "Model: \"sequential_1\"\n",
            "_________________________________________________________________\n",
            "Layer (type)                 Output Shape              Param #   \n",
            "=================================================================\n",
            "conv2d_1 (Conv2D)            (None, 24, 32, 32)        1184      \n",
            "_________________________________________________________________\n",
            "conv2d_2 (Conv2D)            (None, 24, 32, 32)        12320     \n",
            "_________________________________________________________________\n",
            "max_pooling2d_1 (MaxPooling2 (None, 12, 16, 32)        0         \n",
            "_________________________________________________________________\n",
            "dropout_1 (Dropout)          (None, 12, 16, 32)        0         \n",
            "_________________________________________________________________\n",
            "conv2d_3 (Conv2D)            (None, 12, 16, 64)        24640     \n",
            "_________________________________________________________________\n",
            "conv2d_4 (Conv2D)            (None, 12, 16, 64)        49216     \n",
            "_________________________________________________________________\n",
            "max_pooling2d_2 (MaxPooling2 (None, 6, 8, 64)          0         \n",
            "_________________________________________________________________\n",
            "dropout_2 (Dropout)          (None, 6, 8, 64)          0         \n",
            "_________________________________________________________________\n",
            "flatten_1 (Flatten)          (None, 3072)              0         \n",
            "_________________________________________________________________\n",
            "dense_1 (Dense)              (None, 512)               1573376   \n",
            "_________________________________________________________________\n",
            "dropout_3 (Dropout)          (None, 512)               0         \n",
            "_________________________________________________________________\n",
            "dense_2 (Dense)              (None, 16)                8208      \n",
            "=================================================================\n",
            "Total params: 1,668,944\n",
            "Trainable params: 1,668,944\n",
            "Non-trainable params: 0\n",
            "_________________________________________________________________\n"
          ],
          "name": "stdout"
        }
      ]
    },
    {
      "cell_type": "code",
      "metadata": {
        "id": "l4g0xmdcyich",
        "colab_type": "code",
        "outputId": "e1a2d5dd-4a48-4684-a052-e2684f289f8c",
        "colab": {
          "base_uri": "https://localhost:8080/",
          "height": 85
        }
      },
      "source": [
        "model.compile(loss='categorical_crossentropy',\n",
        "              optimizer='adam',\n",
        "              metrics=['accuracy'])"
      ],
      "execution_count": 10,
      "outputs": [
        {
          "output_type": "stream",
          "text": [
            "WARNING:tensorflow:From /usr/local/lib/python3.6/dist-packages/keras/optimizers.py:793: The name tf.train.Optimizer is deprecated. Please use tf.compat.v1.train.Optimizer instead.\n",
            "\n",
            "WARNING:tensorflow:From /usr/local/lib/python3.6/dist-packages/keras/backend/tensorflow_backend.py:3576: The name tf.log is deprecated. Please use tf.math.log instead.\n",
            "\n"
          ],
          "name": "stdout"
        }
      ]
    },
    {
      "cell_type": "code",
      "metadata": {
        "id": "NpCxpOk0VChZ",
        "colab_type": "code",
        "outputId": "58be7bbd-f4d5-4dc6-cd00-914f15c963ea",
        "colab": {
          "base_uri": "https://localhost:8080/",
          "height": 1000
        }
      },
      "source": [
        "hist = model.fit_generator(\n",
        "        train_generator,\n",
        "        steps_per_epoch=STEPS_PER_EPOCH,\n",
        "        epochs=50,\n",
        "        validation_data=validation_generator,\n",
        "        validation_steps=5)"
      ],
      "execution_count": 11,
      "outputs": [
        {
          "output_type": "stream",
          "text": [
            "WARNING:tensorflow:From /usr/local/lib/python3.6/dist-packages/tensorflow/python/ops/math_grad.py:1250: add_dispatch_support.<locals>.wrapper (from tensorflow.python.ops.array_ops) is deprecated and will be removed in a future version.\n",
            "Instructions for updating:\n",
            "Use tf.where in 2.0, which has the same broadcast rule as np.where\n",
            "Epoch 1/50\n",
            "14/14 [==============================] - 7s 517ms/step - loss: 2.7530 - acc: 0.1389 - val_loss: 2.7291 - val_acc: 0.2000\n",
            "Epoch 2/50\n",
            "14/14 [==============================] - 7s 488ms/step - loss: 2.7201 - acc: 0.1570 - val_loss: 2.4908 - val_acc: 0.2653\n",
            "Epoch 3/50\n",
            "14/14 [==============================] - 7s 472ms/step - loss: 2.5894 - acc: 0.1839 - val_loss: 1.8968 - val_acc: 0.5102\n",
            "Epoch 4/50\n",
            "14/14 [==============================] - 6s 462ms/step - loss: 2.1375 - acc: 0.3452 - val_loss: 1.1445 - val_acc: 0.7551\n",
            "Epoch 5/50\n",
            "14/14 [==============================] - 7s 488ms/step - loss: 1.8738 - acc: 0.3903 - val_loss: 0.7899 - val_acc: 0.8571\n",
            "Epoch 6/50\n",
            "14/14 [==============================] - 7s 473ms/step - loss: 1.4704 - acc: 0.5271 - val_loss: 0.8219 - val_acc: 0.8367\n",
            "Epoch 7/50\n",
            "14/14 [==============================] - 7s 468ms/step - loss: 1.2671 - acc: 0.5606 - val_loss: 0.3088 - val_acc: 0.9200\n",
            "Epoch 8/50\n",
            "14/14 [==============================] - 7s 506ms/step - loss: 1.0582 - acc: 0.6546 - val_loss: 0.2125 - val_acc: 0.9796\n",
            "Epoch 9/50\n",
            "14/14 [==============================] - 7s 476ms/step - loss: 0.6915 - acc: 0.7869 - val_loss: 0.0671 - val_acc: 1.0000\n",
            "Epoch 10/50\n",
            "14/14 [==============================] - 6s 462ms/step - loss: 0.5644 - acc: 0.8028 - val_loss: 0.0727 - val_acc: 0.9796\n",
            "Epoch 11/50\n",
            "14/14 [==============================] - 7s 484ms/step - loss: 0.4816 - acc: 0.8028 - val_loss: 0.1336 - val_acc: 0.9184\n",
            "Epoch 12/50\n",
            "14/14 [==============================] - 6s 461ms/step - loss: 0.3430 - acc: 0.8923 - val_loss: 0.0818 - val_acc: 0.9592\n",
            "Epoch 13/50\n",
            "14/14 [==============================] - 7s 492ms/step - loss: 0.3755 - acc: 0.8544 - val_loss: 0.0662 - val_acc: 0.9800\n",
            "Epoch 14/50\n",
            "14/14 [==============================] - 7s 494ms/step - loss: 0.2810 - acc: 0.9080 - val_loss: 0.0340 - val_acc: 1.0000\n",
            "Epoch 15/50\n",
            "14/14 [==============================] - 7s 475ms/step - loss: 0.1919 - acc: 0.9417 - val_loss: 0.0211 - val_acc: 1.0000\n",
            "Epoch 16/50\n",
            "14/14 [==============================] - 7s 480ms/step - loss: 0.1213 - acc: 0.9753 - val_loss: 0.0054 - val_acc: 1.0000\n",
            "Epoch 17/50\n",
            "14/14 [==============================] - 6s 462ms/step - loss: 0.0843 - acc: 0.9753 - val_loss: 0.0032 - val_acc: 1.0000\n",
            "Epoch 18/50\n",
            "14/14 [==============================] - 7s 469ms/step - loss: 0.1449 - acc: 0.9507 - val_loss: 0.0244 - val_acc: 0.9796\n",
            "Epoch 19/50\n",
            "14/14 [==============================] - 7s 487ms/step - loss: 0.1382 - acc: 0.9529 - val_loss: 0.0050 - val_acc: 1.0000\n",
            "Epoch 20/50\n",
            "14/14 [==============================] - 7s 486ms/step - loss: 0.1096 - acc: 0.9686 - val_loss: 9.5370e-04 - val_acc: 1.0000\n",
            "Epoch 21/50\n",
            "14/14 [==============================] - 7s 475ms/step - loss: 0.6647 - acc: 0.8364 - val_loss: 0.4706 - val_acc: 0.8571\n",
            "Epoch 22/50\n",
            "14/14 [==============================] - 7s 466ms/step - loss: 0.7375 - acc: 0.7937 - val_loss: 0.0598 - val_acc: 1.0000\n",
            "Epoch 23/50\n",
            "14/14 [==============================] - 7s 468ms/step - loss: 0.3409 - acc: 0.8835 - val_loss: 0.0124 - val_acc: 1.0000\n",
            "Epoch 24/50\n",
            "14/14 [==============================] - 7s 473ms/step - loss: 0.1258 - acc: 0.9641 - val_loss: 0.0053 - val_acc: 1.0000\n",
            "Epoch 25/50\n",
            "14/14 [==============================] - 7s 473ms/step - loss: 0.1001 - acc: 0.9753 - val_loss: 2.5439e-04 - val_acc: 1.0000\n",
            "Epoch 26/50\n",
            "14/14 [==============================] - 7s 518ms/step - loss: 0.2789 - acc: 0.8859 - val_loss: 0.0229 - val_acc: 1.0000\n",
            "Epoch 27/50\n",
            "14/14 [==============================] - 7s 473ms/step - loss: 0.2871 - acc: 0.9237 - val_loss: 9.5065e-04 - val_acc: 1.0000\n",
            "Epoch 28/50\n",
            "14/14 [==============================] - 7s 475ms/step - loss: 0.1024 - acc: 0.9708 - val_loss: 7.0844e-04 - val_acc: 1.0000\n",
            "Epoch 29/50\n",
            "14/14 [==============================] - 7s 475ms/step - loss: 0.0539 - acc: 0.9910 - val_loss: 2.3677e-04 - val_acc: 1.0000\n",
            "Epoch 30/50\n",
            "14/14 [==============================] - 6s 446ms/step - loss: 0.0275 - acc: 0.9888 - val_loss: 1.1402e-04 - val_acc: 1.0000\n",
            "Epoch 31/50\n",
            "14/14 [==============================] - 7s 487ms/step - loss: 0.0367 - acc: 0.9865 - val_loss: 7.1121e-05 - val_acc: 1.0000\n",
            "Epoch 32/50\n",
            "14/14 [==============================] - 7s 494ms/step - loss: 0.0253 - acc: 0.9955 - val_loss: 2.7754e-05 - val_acc: 1.0000\n",
            "Epoch 33/50\n",
            "14/14 [==============================] - 7s 466ms/step - loss: 0.0196 - acc: 0.9955 - val_loss: 2.5429e-05 - val_acc: 1.0000\n",
            "Epoch 34/50\n",
            "14/14 [==============================] - 7s 475ms/step - loss: 0.0210 - acc: 0.9955 - val_loss: 2.2357e-05 - val_acc: 1.0000\n",
            "Epoch 35/50\n",
            "14/14 [==============================] - 7s 482ms/step - loss: 0.0110 - acc: 1.0000 - val_loss: 7.1492e-06 - val_acc: 1.0000\n",
            "Epoch 36/50\n",
            "14/14 [==============================] - 7s 472ms/step - loss: 0.0167 - acc: 0.9910 - val_loss: 1.1752e-05 - val_acc: 1.0000\n",
            "Epoch 37/50\n",
            "14/14 [==============================] - 7s 474ms/step - loss: 0.0216 - acc: 0.9933 - val_loss: 1.0051e-05 - val_acc: 1.0000\n",
            "Epoch 38/50\n",
            "14/14 [==============================] - 7s 502ms/step - loss: 0.0159 - acc: 0.9910 - val_loss: 3.0484e-06 - val_acc: 1.0000\n",
            "Epoch 39/50\n",
            "14/14 [==============================] - 7s 472ms/step - loss: 0.0132 - acc: 0.9955 - val_loss: 2.5277e-06 - val_acc: 1.0000\n",
            "Epoch 40/50\n",
            "14/14 [==============================] - 6s 425ms/step - loss: 0.0084 - acc: 1.0000 - val_loss: 2.0862e-06 - val_acc: 1.0000\n",
            "Epoch 41/50\n",
            "14/14 [==============================] - 6s 462ms/step - loss: 0.0054 - acc: 1.0000 - val_loss: 2.6287e-06 - val_acc: 1.0000\n",
            "Epoch 42/50\n",
            "14/14 [==============================] - 6s 461ms/step - loss: 0.0095 - acc: 0.9978 - val_loss: 2.5460e-06 - val_acc: 1.0000\n",
            "Epoch 43/50\n",
            "14/14 [==============================] - 7s 486ms/step - loss: 0.0048 - acc: 1.0000 - val_loss: 1.7679e-06 - val_acc: 1.0000\n",
            "Epoch 44/50\n",
            "14/14 [==============================] - 7s 487ms/step - loss: 0.0194 - acc: 0.9910 - val_loss: 1.8356e-06 - val_acc: 1.0000\n",
            "Epoch 45/50\n",
            "14/14 [==============================] - 7s 467ms/step - loss: 0.0093 - acc: 0.9978 - val_loss: 4.2454e-06 - val_acc: 1.0000\n",
            "Epoch 46/50\n",
            "14/14 [==============================] - 7s 470ms/step - loss: 0.0093 - acc: 0.9978 - val_loss: 3.7004e-06 - val_acc: 1.0000\n",
            "Epoch 47/50\n",
            "14/14 [==============================] - 7s 483ms/step - loss: 0.0381 - acc: 0.9888 - val_loss: 1.5364e-05 - val_acc: 1.0000\n",
            "Epoch 48/50\n",
            "14/14 [==============================] - 7s 476ms/step - loss: 0.0163 - acc: 0.9955 - val_loss: 2.6108e-05 - val_acc: 1.0000\n",
            "Epoch 49/50\n",
            "14/14 [==============================] - 7s 483ms/step - loss: 0.0065 - acc: 1.0000 - val_loss: 3.3761e-06 - val_acc: 1.0000\n",
            "Epoch 50/50\n",
            "14/14 [==============================] - 7s 504ms/step - loss: 0.0210 - acc: 0.9955 - val_loss: 2.6750e-06 - val_acc: 1.0000\n"
          ],
          "name": "stdout"
        }
      ]
    },
    {
      "cell_type": "code",
      "metadata": {
        "id": "BO4Izxb30rqD",
        "colab_type": "code",
        "outputId": "df791f9f-4c60-4737-87f3-b9d22200f23b",
        "colab": {
          "base_uri": "https://localhost:8080/",
          "height": 295
        }
      },
      "source": [
        "plt.plot(hist.history['loss'])\n",
        "plt.plot(hist.history['val_loss'])\n",
        "plt.title('Model loss')\n",
        "plt.ylabel('Loss')\n",
        "plt.xlabel('Epoch')\n",
        "plt.legend(['Train', 'Val'], loc='upper right')\n",
        "plt.show()"
      ],
      "execution_count": 12,
      "outputs": [
        {
          "output_type": "display_data",
          "data": {
            "image/png": "[encoded data removed]",
            "text/plain": [
              "<Figure size 432x288 with 1 Axes>"
            ]
          },
          "metadata": {
            "tags": []
          }
        }
      ]
    },
    {
      "cell_type": "code",
      "metadata": {
        "id": "h388Qx6j_jlo",
        "colab_type": "code",
        "outputId": "b1ec754b-3073-4116-f80f-515de5693fe0",
        "colab": {
          "base_uri": "https://localhost:8080/",
          "height": 51
        }
      },
      "source": [
        "model.evaluate(x=validation_generator)[1]"
      ],
      "execution_count": 13,
      "outputs": [
        {
          "output_type": "stream",
          "text": [
            "6/6 [==============================] - 1s 122ms/step\n"
          ],
          "name": "stdout"
        },
        {
          "output_type": "execute_result",
          "data": {
            "text/plain": [
              "1.0"
            ]
          },
          "metadata": {
            "tags": []
          },
          "execution_count": 13
        }
      ]
    },
    {
      "cell_type": "code",
      "metadata": {
        "id": "tABv2ZTu4nTt",
        "colab_type": "code",
        "colab": {}
      },
      "source": [
        "from PIL import Image\n",
        "import numpy as np\n",
        "from skimage import transform\n",
        "def load(filename):\n",
        "   np_image = Image.open(filename)\n",
        "   np_image = np.array(np_image).astype('float32')/255\n",
        "   np_image = transform.resize(np_image, (24, 32, 3))\n",
        "   np_image = np.expand_dims(np_image, axis=0)\n",
        "   return np_image\n",
        "\n",
        "image = load('/content/drive/My Drive/Colab Notebooks/binary_test/images/0_middle.jpg')\n",
        "results = model.predict(image)"
      ],
      "execution_count": 0,
      "outputs": []
    },
    {
      "cell_type": "code",
      "metadata": {
        "id": "xcod8L9Q-126",
        "colab_type": "code",
        "outputId": "978e8a06-bae2-4cd8-ea57-a799cca109c7",
        "colab": {
          "base_uri": "https://localhost:8080/",
          "height": 34
        }
      },
      "source": [
        "CLASS_NAMES[np.argmax(results)]\n",
        "\n"
      ],
      "execution_count": 21,
      "outputs": [
        {
          "output_type": "execute_result",
          "data": {
            "text/plain": [
              "'2'"
            ]
          },
          "metadata": {
            "tags": []
          },
          "execution_count": 21
        }
      ]
    },
    {
      "cell_type": "code",
      "metadata": {
        "id": "PxNTkVYy1b99",
        "colab_type": "code",
        "colab": {}
      },
      "source": [
        "model.save('/content/drive/My Drive/Colab Notebooks/mymodel.h5')"
      ],
      "execution_count": 0,
      "outputs": []
    },
    {
      "cell_type": "markdown",
      "metadata": {
        "id": "UqeTEhPWVChb",
        "colab_type": "text"
      },
      "source": [
        "From this point onwards, refer to https://www.tensorflow.org/tutorials/load_data/images#load_using_tfdata under \"load using tf.data\" to be able to load the dataset in keras. "
      ]
    }
  ]
}