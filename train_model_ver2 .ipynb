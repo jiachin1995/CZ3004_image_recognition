{
  "nbformat": 4,
  "nbformat_minor": 0,
  "metadata": {
    "kernelspec": {
      "display_name": "Python 3",
      "language": "python",
      "name": "python3"
    },
    "language_info": {
      "codemirror_mode": {
        "name": "ipython",
        "version": 3
      },
      "file_extension": ".py",
      "mimetype": "text/x-python",
      "name": "python",
      "nbconvert_exporter": "python",
      "pygments_lexer": "ipython3",
      "version": "3.7.4"
    },
    "colab": {
      "name": "Reading files as data in keras.ipynb",
      "provenance": []
    }
  },
  "cells": [
    {
      "cell_type": "code",
      "metadata": {
        "id": "pYmP_lYDVChG",
        "colab_type": "code",
        "colab": {
          "base_uri": "https://localhost:8080/",
          "height": 34
        },
        "outputId": "47badde8-17d6-4b66-c567-216405474296"
      },
      "source": [
        "import pathlib\n",
        "from pathlib import Path\n",
        "import os\n",
        "import numpy as np\n",
        "import tensorflow as tf\n",
        "\n",
        "from keras.models import Sequential, Model\n",
        "from keras.layers import Input, Dense, Dropout, Flatten, Conv2D, MaxPooling2D\n",
        "import matplotlib.pyplot as plt\n",
        "from keras.utils import plot_model"
      ],
      "execution_count": 1,
      "outputs": [
        {
          "output_type": "stream",
          "text": [
            "Using TensorFlow backend.\n"
          ],
          "name": "stderr"
        }
      ]
    },
    {
      "cell_type": "code",
      "metadata": {
        "id": "FRYAfcu1WnFE",
        "colab_type": "code",
        "outputId": "c1106d7f-2a11-4fab-ce7d-66ee60740ac7",
        "colab": {
          "base_uri": "https://localhost:8080/",
          "height": 34
        }
      },
      "source": [
        "from google.colab import drive\n",
        "drive.mount('/content/drive')"
      ],
      "execution_count": 2,
      "outputs": [
        {
          "output_type": "stream",
          "text": [
            "Drive already mounted at /content/drive; to attempt to forcibly remount, call drive.mount(\"/content/drive\", force_remount=True).\n"
          ],
          "name": "stdout"
        }
      ]
    },
    {
      "cell_type": "markdown",
      "metadata": {
        "id": "ScViUunDVChJ",
        "colab_type": "text"
      },
      "source": [
        "The following line uses the absolute path directory to read in where the training photos are saved, remember to put an 'r' in front for non-linux devices."
      ]
    },
    {
      "cell_type": "code",
      "metadata": {
        "id": "CrPhn5VDVChK",
        "colab_type": "code",
        "colab": {}
      },
      "source": [
        "train = Path('/content/drive/My Drive/Colab Notebooks/binary_train')\n",
        "test = Path('/content/drive/My Drive/Colab Notebooks/binary_test')\n",
        "\n",
        "train_count = len(list(train.glob('*/*.jpg')))\n",
        "test_count = len(list(test.glob('*/*.jpg')))"
      ],
      "execution_count": 0,
      "outputs": []
    },
    {
      "cell_type": "code",
      "metadata": {
        "id": "HLdLRvZzVChM",
        "colab_type": "code",
        "outputId": "1c88d8d8-ccb2-47b1-85c3-45ea235f827c",
        "colab": {
          "base_uri": "https://localhost:8080/",
          "height": 34
        }
      },
      "source": [
        "train_count\n",
        "#test_count"
      ],
      "execution_count": 4,
      "outputs": [
        {
          "output_type": "execute_result",
          "data": {
            "text/plain": [
              "418"
            ]
          },
          "metadata": {
            "tags": []
          },
          "execution_count": 4
        }
      ]
    },
    {
      "cell_type": "code",
      "metadata": {
        "id": "pMsSHr50VChP",
        "colab_type": "code",
        "colab": {}
      },
      "source": [
        "CLASS_NAMES = np.array([item.name for item in train.glob('*') if item.name != \"LICENSE.txt\"])\n",
        "CLASS_NAMES = list(CLASS_NAMES)\n",
        "if CLASS_NAMES[0] == 'images':\n",
        "    CLASS_BINARY = ['1','0']\n",
        "else:\n",
        "    CLASS_BINARY = ['0','1']"
      ],
      "execution_count": 0,
      "outputs": []
    },
    {
      "cell_type": "code",
      "metadata": {
        "id": "6q2AFxBjVChS",
        "colab_type": "code",
        "colab": {}
      },
      "source": [
        "BATCH_SIZE = 32\n",
        "IMG_HEIGHT = 648\n",
        "IMG_WIDTH = 864\n",
        "INPUT_HEIGHT = 24\n",
        "INPUT_WIDTH = 32\n",
        "\n",
        "STEPS_PER_EPOCH = np.ceil(train_count/BATCH_SIZE)"
      ],
      "execution_count": 0,
      "outputs": []
    },
    {
      "cell_type": "code",
      "metadata": {
        "id": "s8lGBqY6VChU",
        "colab_type": "code",
        "outputId": "d0fc450f-346e-41d2-caaf-c39ddd3cb57a",
        "colab": {
          "base_uri": "https://localhost:8080/",
          "height": 51
        }
      },
      "source": [
        "train_datagen = tf.keras.preprocessing.image.ImageDataGenerator(rescale=1./255)\n",
        "\n",
        "train_generator = train_datagen.flow_from_directory(directory=str(train),\n",
        "                                                     batch_size=BATCH_SIZE,\n",
        "                                                     shuffle=True,\n",
        "                                                     target_size=(INPUT_HEIGHT, INPUT_WIDTH),\n",
        "                                                     class_mode='binary',\n",
        "                                                   )\n",
        "\n",
        "\n",
        "test_datagen = tf.keras.preprocessing.image.ImageDataGenerator(rescale=1./255)\n",
        "\n",
        "validation_generator = test_datagen.flow_from_directory(directory=str(test),\n",
        "                                                     batch_size=int(BATCH_SIZE/3),\n",
        "                                                     shuffle=True,\n",
        "                                                     target_size=(INPUT_HEIGHT, INPUT_WIDTH),\n",
        "                                                     class_mode='binary',\n",
        "                                                       )\n",
        "\n",
        "\n"
      ],
      "execution_count": 7,
      "outputs": [
        {
          "output_type": "stream",
          "text": [
            "Found 418 images belonging to 2 classes.\n",
            "Found 59 images belonging to 2 classes.\n"
          ],
          "name": "stdout"
        }
      ]
    },
    {
      "cell_type": "code",
      "metadata": {
        "id": "oIJZvmdiXehH",
        "colab_type": "code",
        "outputId": "da5d3e7f-5946-45e0-b101-1c02ae079213",
        "colab": {
          "base_uri": "https://localhost:8080/",
          "height": 34
        }
      },
      "source": [
        "train_generator.class_indices"
      ],
      "execution_count": 8,
      "outputs": [
        {
          "output_type": "execute_result",
          "data": {
            "text/plain": [
              "{'default': 0, 'images': 1}"
            ]
          },
          "metadata": {
            "tags": []
          },
          "execution_count": 8
        }
      ]
    },
    {
      "cell_type": "code",
      "metadata": {
        "id": "L6kYAJb1ONCG",
        "colab_type": "code",
        "outputId": "8a922b3e-53de-4e59-99b5-1615b4d5e25d",
        "colab": {
          "base_uri": "https://localhost:8080/",
          "height": 976
        }
      },
      "source": [
        "A1 = Input(shape=(INPUT_HEIGHT,INPUT_WIDTH,3),name='A1')\n",
        "A2 = Conv2D(32, (3, 4), \n",
        "                 activation='relu', \n",
        "                 padding='same', \n",
        "                 name='A2')(A1)\n",
        "A3 = Conv2D(32, (3, 4), activation='relu', padding='same',name='A3')(A2)\n",
        "A4 = MaxPooling2D(pool_size=(2, 2),name='A4')(A3)\n",
        "A5 = Dropout(0.25,name='A5')(A4)\n",
        "A6 = Flatten(name='A6')(A5)\n",
        "A7 = Dense(512, activation='relu',name='A7')(A6)\n",
        "A8 = Dropout(0.5,name='A8')(A7)\n",
        "A9 = Dense(1, activation='hard_sigmoid',name='A9')(A8)\n",
        "\n",
        "model = Model(inputs=[A1],outputs=[A9])\n",
        "plot_model(model,show_shapes=True)"
      ],
      "execution_count": 39,
      "outputs": [
        {
          "output_type": "execute_result",
          "data": {
            "image/png": "[encoded data removed]",
            "text/plain": [
              "<IPython.core.display.Image object>"
            ]
          },
          "metadata": {
            "tags": []
          },
          "execution_count": 39
        }
      ]
    },
    {
      "cell_type": "code",
      "metadata": {
        "id": "-yYgL1lv0DGI",
        "colab_type": "code",
        "outputId": "9d0c32f6-5447-4bf6-f641-b04aa033629d",
        "colab": {
          "base_uri": "https://localhost:8080/",
          "height": 459
        }
      },
      "source": [
        "model.summary()"
      ],
      "execution_count": 11,
      "outputs": [
        {
          "output_type": "stream",
          "text": [
            "Model: \"model_1\"\n",
            "_________________________________________________________________\n",
            "Layer (type)                 Output Shape              Param #   \n",
            "=================================================================\n",
            "A1 (InputLayer)              (None, 24, 32, 3)         0         \n",
            "_________________________________________________________________\n",
            "A2 (Conv2D)                  (None, 24, 32, 32)        1184      \n",
            "_________________________________________________________________\n",
            "A3 (Conv2D)                  (None, 24, 32, 32)        12320     \n",
            "_________________________________________________________________\n",
            "A4 (MaxPooling2D)            (None, 12, 16, 32)        0         \n",
            "_________________________________________________________________\n",
            "A5 (Dropout)                 (None, 12, 16, 32)        0         \n",
            "_________________________________________________________________\n",
            "A6 (Flatten)                 (None, 6144)              0         \n",
            "_________________________________________________________________\n",
            "A7 (Dense)                   (None, 512)               3146240   \n",
            "_________________________________________________________________\n",
            "A8 (Dropout)                 (None, 512)               0         \n",
            "_________________________________________________________________\n",
            "A9 (Dense)                   (None, 1)                 513       \n",
            "=================================================================\n",
            "Total params: 3,160,257\n",
            "Trainable params: 3,160,257\n",
            "Non-trainable params: 0\n",
            "_________________________________________________________________\n"
          ],
          "name": "stdout"
        }
      ]
    },
    {
      "cell_type": "code",
      "metadata": {
        "id": "l4g0xmdcyich",
        "colab_type": "code",
        "colab": {}
      },
      "source": [
        "model.compile(loss='mse',\n",
        "              optimizer='adam',\n",
        "              metrics=['accuracy'])"
      ],
      "execution_count": 0,
      "outputs": []
    },
    {
      "cell_type": "code",
      "metadata": {
        "id": "NpCxpOk0VChZ",
        "colab_type": "code",
        "outputId": "41b15564-fb44-4477-afe2-04df702c7a00",
        "colab": {
          "base_uri": "https://localhost:8080/",
          "height": 1000
        }
      },
      "source": [
        "hist = model.fit_generator(\n",
        "        train_generator,\n",
        "        class_weight = {0: 15.,\n",
        "                1: 1.},\n",
        "        steps_per_epoch=STEPS_PER_EPOCH,\n",
        "        epochs=50,\n",
        "        validation_data=validation_generator,\n",
        "        validation_steps=5)"
      ],
      "execution_count": 0,
      "outputs": [
        {
          "output_type": "stream",
          "text": [
            "Epoch 1/50\n",
            "14/14 [==============================] - 7s 473ms/step - loss: 0.6390 - acc: 0.3273 - val_loss: 0.2304 - val_acc: 0.4800\n",
            "Epoch 2/50\n",
            "14/14 [==============================] - 7s 481ms/step - loss: 0.3051 - acc: 0.6636 - val_loss: 0.0966 - val_acc: 0.8571\n",
            "Epoch 3/50\n",
            "14/14 [==============================] - 6s 433ms/step - loss: 0.1177 - acc: 0.9036 - val_loss: 5.4324e-04 - val_acc: 1.0000\n",
            "Epoch 4/50\n",
            "14/14 [==============================] - 6s 451ms/step - loss: 0.0661 - acc: 0.9507 - val_loss: 0.0011 - val_acc: 1.0000\n",
            "Epoch 5/50\n",
            "14/14 [==============================] - 6s 431ms/step - loss: 0.0701 - acc: 0.9551 - val_loss: 0.0310 - val_acc: 0.9388\n",
            "Epoch 6/50\n",
            "14/14 [==============================] - 6s 447ms/step - loss: 0.0577 - acc: 0.9551 - val_loss: 0.0000e+00 - val_acc: 1.0000\n",
            "Epoch 7/50\n",
            "14/14 [==============================] - 6s 454ms/step - loss: 0.0187 - acc: 0.9955 - val_loss: 2.7045e-05 - val_acc: 1.0000\n",
            "Epoch 8/50\n",
            "14/14 [==============================] - 6s 452ms/step - loss: 0.0163 - acc: 0.9978 - val_loss: 0.0000e+00 - val_acc: 1.0000\n",
            "Epoch 9/50\n",
            "14/14 [==============================] - 6s 461ms/step - loss: 0.0117 - acc: 0.9978 - val_loss: 0.0000e+00 - val_acc: 1.0000\n",
            "Epoch 10/50\n",
            "14/14 [==============================] - 7s 464ms/step - loss: 0.0114 - acc: 0.9978 - val_loss: 0.0000e+00 - val_acc: 1.0000\n",
            "Epoch 11/50\n",
            "14/14 [==============================] - 6s 454ms/step - loss: 0.0124 - acc: 0.9955 - val_loss: 0.0050 - val_acc: 1.0000\n",
            "Epoch 12/50\n",
            "14/14 [==============================] - 6s 455ms/step - loss: 0.0147 - acc: 0.9955 - val_loss: 0.0000e+00 - val_acc: 1.0000\n",
            "Epoch 13/50\n",
            "14/14 [==============================] - 7s 467ms/step - loss: 0.0122 - acc: 0.9955 - val_loss: 0.0000e+00 - val_acc: 1.0000\n",
            "Epoch 14/50\n",
            "14/14 [==============================] - 7s 479ms/step - loss: 0.0098 - acc: 1.0000 - val_loss: 0.0000e+00 - val_acc: 1.0000\n",
            "Epoch 15/50\n",
            "14/14 [==============================] - 6s 432ms/step - loss: 0.0080 - acc: 0.9978 - val_loss: 0.0000e+00 - val_acc: 1.0000\n",
            "Epoch 16/50\n",
            "14/14 [==============================] - 6s 452ms/step - loss: 0.0052 - acc: 1.0000 - val_loss: 0.0000e+00 - val_acc: 1.0000\n",
            "Epoch 17/50\n",
            "14/14 [==============================] - 6s 437ms/step - loss: 0.0058 - acc: 1.0000 - val_loss: 0.0000e+00 - val_acc: 1.0000\n",
            "Epoch 18/50\n",
            "14/14 [==============================] - 6s 451ms/step - loss: 0.0043 - acc: 1.0000 - val_loss: 0.0000e+00 - val_acc: 1.0000\n",
            "Epoch 19/50\n",
            "14/14 [==============================] - 7s 470ms/step - loss: 0.0037 - acc: 1.0000 - val_loss: 0.0000e+00 - val_acc: 1.0000\n",
            "Epoch 20/50\n",
            "14/14 [==============================] - 7s 479ms/step - loss: 0.0026 - acc: 1.0000 - val_loss: 0.0000e+00 - val_acc: 1.0000\n",
            "Epoch 21/50\n",
            "14/14 [==============================] - 6s 460ms/step - loss: 0.0013 - acc: 1.0000 - val_loss: 0.0000e+00 - val_acc: 1.0000\n",
            "Epoch 22/50\n",
            "14/14 [==============================] - 6s 432ms/step - loss: 5.7168e-04 - acc: 1.0000 - val_loss: 0.0000e+00 - val_acc: 1.0000\n",
            "Epoch 23/50\n",
            "14/14 [==============================] - 6s 460ms/step - loss: 7.8466e-04 - acc: 1.0000 - val_loss: 0.0000e+00 - val_acc: 1.0000\n",
            "Epoch 24/50\n",
            "14/14 [==============================] - 6s 442ms/step - loss: 0.0013 - acc: 1.0000 - val_loss: 0.0000e+00 - val_acc: 1.0000\n",
            "Epoch 25/50\n",
            "14/14 [==============================] - 7s 478ms/step - loss: 5.0147e-04 - acc: 1.0000 - val_loss: 0.0000e+00 - val_acc: 1.0000\n",
            "Epoch 26/50\n",
            "14/14 [==============================] - 7s 499ms/step - loss: 4.2838e-04 - acc: 1.0000 - val_loss: 0.0000e+00 - val_acc: 1.0000\n",
            "Epoch 27/50\n",
            "14/14 [==============================] - 6s 446ms/step - loss: 5.7663e-04 - acc: 1.0000 - val_loss: 0.0000e+00 - val_acc: 1.0000\n",
            "Epoch 28/50\n",
            "14/14 [==============================] - 6s 459ms/step - loss: 2.5503e-04 - acc: 1.0000 - val_loss: 0.0000e+00 - val_acc: 1.0000\n",
            "Epoch 29/50\n",
            "14/14 [==============================] - 6s 439ms/step - loss: 5.3733e-05 - acc: 1.0000 - val_loss: 0.0000e+00 - val_acc: 1.0000\n",
            "Epoch 30/50\n",
            "14/14 [==============================] - 7s 469ms/step - loss: 0.0022 - acc: 1.0000 - val_loss: 0.0000e+00 - val_acc: 1.0000\n",
            "Epoch 31/50\n",
            "14/14 [==============================] - 6s 460ms/step - loss: 0.0057 - acc: 0.9910 - val_loss: 0.0000e+00 - val_acc: 1.0000\n",
            "Epoch 32/50\n",
            " 3/14 [=====>........................] - ETA: 3s - loss: 0.0000e+00 - acc: 1.0000"
          ],
          "name": "stdout"
        }
      ]
    },
    {
      "cell_type": "code",
      "metadata": {
        "id": "BO4Izxb30rqD",
        "colab_type": "code",
        "colab": {
          "base_uri": "https://localhost:8080/",
          "height": 295
        },
        "outputId": "2844eef3-9dbf-455d-eb12-1337835c0e3a"
      },
      "source": [
        "plt.plot(hist.history['loss'])\n",
        "plt.plot(hist.history['val_loss'])\n",
        "plt.title('Model loss')\n",
        "plt.ylabel('Loss')\n",
        "plt.xlabel('Epoch')\n",
        "plt.legend(['Train', 'Val'], loc='upper right')\n",
        "plt.show()"
      ],
      "execution_count": 35,
      "outputs": [
        {
          "output_type": "display_data",
          "data": {
            "image/png": "[encoded data removed]",
            "text/plain": [
              "<Figure size 432x288 with 1 Axes>"
            ]
          },
          "metadata": {
            "tags": []
          }
        }
      ]
    },
    {
      "cell_type": "code",
      "metadata": {
        "id": "h388Qx6j_jlo",
        "colab_type": "code",
        "colab": {
          "base_uri": "https://localhost:8080/",
          "height": 51
        },
        "outputId": "366611e1-a0c3-4845-d2cc-9e64e6152341"
      },
      "source": [
        "model.evaluate(x=validation_generator)[1]"
      ],
      "execution_count": 36,
      "outputs": [
        {
          "output_type": "stream",
          "text": [
            "6/6 [==============================] - 1s 103ms/step\n"
          ],
          "name": "stdout"
        },
        {
          "output_type": "execute_result",
          "data": {
            "text/plain": [
              "0.7627118633965314"
            ]
          },
          "metadata": {
            "tags": []
          },
          "execution_count": 36
        }
      ]
    },
    {
      "cell_type": "code",
      "metadata": {
        "id": "tABv2ZTu4nTt",
        "colab_type": "code",
        "colab": {}
      },
      "source": [
        "from PIL import Image\n",
        "import numpy as np\n",
        "from skimage import transform\n",
        "def load(filename):\n",
        "   np_image = Image.open(filename)\n",
        "   np_image = np.array(np_image).astype('float32')/255\n",
        "   np_image = transform.resize(np_image, (24, 32, 3))\n",
        "   np_image = np.expand_dims(np_image, axis=0)\n",
        "   return np_image\n",
        "\n",
        "image = load('/content/drive/My Drive/Colab Notebooks/binary_train/images/0_left_cutbottom.jpg')\n",
        "results = model.predict(image)"
      ],
      "execution_count": 0,
      "outputs": []
    },
    {
      "cell_type": "code",
      "metadata": {
        "id": "xcod8L9Q-126",
        "colab_type": "code",
        "colab": {
          "base_uri": "https://localhost:8080/",
          "height": 34
        },
        "outputId": "2e6e35a5-bc47-45cb-c9ee-7cc3bdcd1257"
      },
      "source": [
        "results\n",
        "\n"
      ],
      "execution_count": 38,
      "outputs": [
        {
          "output_type": "execute_result",
          "data": {
            "text/plain": [
              "array([[1.]], dtype=float32)"
            ]
          },
          "metadata": {
            "tags": []
          },
          "execution_count": 38
        }
      ]
    },
    {
      "cell_type": "code",
      "metadata": {
        "id": "pQYjOaLNfNqw",
        "colab_type": "code",
        "colab": {}
      },
      "source": [
        "#freeze model\n",
        "A1.trainable = False\n",
        "A2.trainable = False\n",
        "A3.trainable = False\n",
        "A4.trainable = False\n",
        "A5.trainable = False\n",
        "A6.trainable = False\n",
        "A7.trainable = False\n",
        "A8.trainable = False\n",
        "A9.trainable = False"
      ],
      "execution_count": 0,
      "outputs": []
    },
    {
      "cell_type": "code",
      "metadata": {
        "id": "PLraVh_JUHlM",
        "colab_type": "code",
        "colab": {
          "base_uri": "https://localhost:8080/",
          "height": 54
        },
        "outputId": "ab70e268-ab91-434e-a81b-d79aa7e43f74"
      },
      "source": [
        "train = Path('/content/drive/My Drive/Colab Notebooks/colours_train')\n",
        "test = Path('/content/drive/My Drive/Colab Notebooks/colours_test')\n",
        "\n",
        "\n",
        "train_datagen = tf.keras.preprocessing.image.ImageDataGenerator(rescale=1./255)\n",
        "\n",
        "train_generator = train_datagen.flow_from_directory(directory=str(train),\n",
        "                                                     batch_size=BATCH_SIZE,\n",
        "                                                     shuffle=True,\n",
        "                                                     target_size=(INPUT_HEIGHT, INPUT_WIDTH)\n",
        "                                                   )\n",
        "\n",
        "\n",
        "test_datagen = tf.keras.preprocessing.image.ImageDataGenerator(rescale=1./255)\n",
        "\n",
        "validation_generator = test_datagen.flow_from_directory(directory=str(test),\n",
        "                                                     batch_size=int(BATCH_SIZE/3),\n",
        "                                                     shuffle=True,\n",
        "                                                     target_size=(INPUT_HEIGHT, INPUT_WIDTH)\n",
        "                                                       )\n",
        "\n",
        "\n"
      ],
      "execution_count": 18,
      "outputs": [
        {
          "output_type": "execute_result",
          "data": {
            "text/plain": [
              "'\\ntrain_datagen = tf.keras.preprocessing.image.ImageDataGenerator(rescale=1./255)\\n\\ntrain_generator = train_datagen.flow_from_directory(directory=str(train),\\n                                                     batch_size=BATCH_SIZE,\\n                                                     shuffle=True,\\n                                                     target_size=(INPUT_HEIGHT, INPUT_WIDTH),\\n                                                     classes = list(CLASS_NAMES))\\n\\n\\ntest_datagen = tf.keras.preprocessing.image.ImageDataGenerator(rescale=1./255)\\n\\nvalidation_generator = test_datagen.flow_from_directory(directory=str(test),\\n                                                     batch_size=int(BATCH_SIZE/3),\\n                                                     shuffle=True,\\n                                                     target_size=(INPUT_HEIGHT, INPUT_WIDTH),\\n                                                     classes = list(CLASS_NAMES))\\n\\n\\n'"
            ]
          },
          "metadata": {
            "tags": []
          },
          "execution_count": 18
        }
      ]
    },
    {
      "cell_type": "code",
      "metadata": {
        "id": "Sk-y769UVChX",
        "colab_type": "code",
        "outputId": "dca67446-405b-4c40-dcd4-4a61e1ff8098",
        "colab": {
          "base_uri": "https://localhost:8080/",
          "height": 54
        }
      },
      "source": [
        "B1 = Conv2D(32, (3, 4), activation='relu', padding='same',name='B1')(A5)\n",
        "B2 = Conv2D(32, (3, 4), activation='relu', padding='same',name='B2')(B1)\n",
        "B3 = MaxPooling2D(pool_size=(2, 2),name='B3')(B2)\n",
        "B4 = Dropout(0.25,name='B4')(B3)\n",
        "B5 = Flatten(name='B5')(B4)\n",
        "B6 = Dense(512, activation='relu',name='B6')(B5)\n",
        "B7 = Dropout(0.5,name='B7')(B6)\n",
        "B8 = Dense(5, activation='softmax',name='B8')(B7)\n",
        " \n",
        "model = Model(inputs=[A1],outputs=[B8])\n",
        "plot_model(model,show_shapes=True)\n"
      ],
      "execution_count": 10,
      "outputs": [
        {
          "output_type": "execute_result",
          "data": {
            "text/plain": [
              "\"\\nmodel = Sequential()\\n\\nmodel.add(Conv2D(32, (3, 4), \\n                 activation='relu', \\n                 padding='same', \\n                 input_shape=(INPUT_HEIGHT,INPUT_WIDTH,3)))\\nmodel.add(Conv2D(32, (3, 4), activation='relu', padding='same'))\\n\\nmodel.add(MaxPooling2D(pool_size=(2, 2)))\\nmodel.add(Dropout(0.25))\\n\\nmodel.add(Conv2D(64, (3, 4), activation='relu', padding='same'))\\nmodel.add(Conv2D(64, (3, 4), activation='relu', padding='same'))\\nmodel.add(MaxPooling2D(pool_size=(2, 2)))\\nmodel.add(Dropout(0.25))\\n\\nmodel.add(Flatten())\\nmodel.add(Dense(512, activation='relu'))\\nmodel.add(Dropout(0.5))\\n\\nmodel.add(Dense(16, activation='softmax'))\\n\""
            ]
          },
          "metadata": {
            "tags": []
          },
          "execution_count": 10
        }
      ]
    },
    {
      "cell_type": "code",
      "metadata": {
        "id": "py2-X9Avlcvm",
        "colab_type": "code",
        "colab": {}
      },
      "source": [
        "\"\"\"\n",
        "model.add(Conv2D(32, (3, 4), \n",
        "                 activation='relu', \n",
        "                 padding='same', \n",
        "                 input_shape=(INPUT_HEIGHT,INPUT_WIDTH,3)))\n",
        "model.add(Conv2D(32, (3, 4), activation='relu', padding='same'))\n",
        "\n",
        "model.add(MaxPooling2D(pool_size=(2, 2)))\n",
        "model.add(Dropout(0.25))\n",
        "\n",
        "model.add(Conv2D(64, (3, 4), activation='relu', padding='same'))\n",
        "model.add(Conv2D(64, (3, 4), activation='relu', padding='same'))\n",
        "model.add(MaxPooling2D(pool_size=(2, 2)))\n",
        "model.add(Dropout(0.25))\n",
        "\n",
        "model.add(Flatten())\n",
        "model.add(Dense(512, activation='relu'))\n",
        "model.add(Dropout(0.5))\n",
        "\n",
        "model.add(Dense(5, activation='softmax'))\n",
        "\"\"\""
      ],
      "execution_count": 0,
      "outputs": []
    },
    {
      "cell_type": "code",
      "metadata": {
        "id": "DJE5KJHpZRY2",
        "colab_type": "code",
        "colab": {}
      },
      "source": [
        "model.compile(loss='categorical_crossentropy',\n",
        "              optimizer='adam',\n",
        "              metrics=['accuracy'])"
      ],
      "execution_count": 0,
      "outputs": []
    },
    {
      "cell_type": "code",
      "metadata": {
        "id": "1BkZRyKrmmpC",
        "colab_type": "code",
        "colab": {}
      },
      "source": [
        "hist = model.fit_generator(\n",
        "        train_generator,\n",
        "        class_weight = {0: 15.,\n",
        "                1: 1.},\n",
        "        steps_per_epoch=STEPS_PER_EPOCH,\n",
        "        epochs=50,\n",
        "        validation_data=validation_generator,\n",
        "        validation_steps=5)"
      ],
      "execution_count": 0,
      "outputs": []
    },
    {
      "cell_type": "code",
      "metadata": {
        "id": "xYk3qfgumts4",
        "colab_type": "code",
        "colab": {}
      },
      "source": [
        "plt.plot(hist.history['loss'])\n",
        "plt.plot(hist.history['val_loss'])\n",
        "plt.title('Model loss')\n",
        "plt.ylabel('Loss')\n",
        "plt.xlabel('Epoch')\n",
        "plt.legend(['Train', 'Val'], loc='upper right')\n",
        "plt.show()"
      ],
      "execution_count": 0,
      "outputs": []
    },
    {
      "cell_type": "code",
      "metadata": {
        "id": "S6qS-n-EmyGx",
        "colab_type": "code",
        "colab": {}
      },
      "source": [
        "image = load('/content/drive/My Drive/Colab Notebooks/colours_test/white/11_middle.jpg')\n",
        "results = model.predict(image)"
      ],
      "execution_count": 0,
      "outputs": []
    },
    {
      "cell_type": "code",
      "metadata": {
        "id": "-5fsJkXSm6dh",
        "colab_type": "code",
        "colab": {}
      },
      "source": [
        "results\n"
      ],
      "execution_count": 0,
      "outputs": []
    },
    {
      "cell_type": "code",
      "metadata": {
        "id": "HULe97owm9OX",
        "colab_type": "code",
        "colab": {}
      },
      "source": [
        "#freeze model\n",
        "B1.trainable = False\n",
        "B2.trainable = False\n",
        "B3.trainable = False\n",
        "B4.trainable = False\n",
        "B5.trainable = False\n",
        "B6.trainable = False\n",
        "B7.trainable = False\n",
        "B8.trainable = False"
      ],
      "execution_count": 0,
      "outputs": []
    },
    {
      "cell_type": "code",
      "metadata": {
        "id": "PxNTkVYy1b99",
        "colab_type": "code",
        "colab": {}
      },
      "source": [
        "#model.save('/content/drive/My Drive/Colab Notebooks/mymodel2.h5')"
      ],
      "execution_count": 0,
      "outputs": []
    },
    {
      "cell_type": "markdown",
      "metadata": {
        "id": "UqeTEhPWVChb",
        "colab_type": "text"
      },
      "source": [
        "From this point onwards, refer to https://www.tensorflow.org/tutorials/load_data/images#load_using_tfdata under \"load using tf.data\" to be able to load the dataset in keras. "
      ]
    }
  ]
}