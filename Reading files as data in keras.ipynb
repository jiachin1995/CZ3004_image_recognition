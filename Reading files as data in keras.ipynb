{
  "nbformat": 4,
  "nbformat_minor": 0,
  "metadata": {
    "kernelspec": {
      "display_name": "Python 3",
      "language": "python",
      "name": "python3"
    },
    "language_info": {
      "codemirror_mode": {
        "name": "ipython",
        "version": 3
      },
      "file_extension": ".py",
      "mimetype": "text/x-python",
      "name": "python",
      "nbconvert_exporter": "python",
      "pygments_lexer": "ipython3",
      "version": "3.7.4"
    },
    "colab": {
      "name": "Reading files as data in keras.ipynb",
      "provenance": []
    }
  },
  "cells": [
    {
      "cell_type": "code",
      "metadata": {
        "id": "pYmP_lYDVChG",
        "colab_type": "code",
        "colab": {
          "base_uri": "https://localhost:8080/",
          "height": 34
        },
        "outputId": "3556341a-082d-4868-d24e-e84a0f2c1e69"
      },
      "source": [
        "import pathlib\n",
        "from pathlib import Path\n",
        "import os\n",
        "import numpy as np\n",
        "import tensorflow as tf\n",
        "\n",
        "from keras.models import Sequential\n",
        "from keras.layers import Dense, Dropout, Flatten, Conv2D, MaxPooling2D\n",
        "import matplotlib.pyplot as plt"
      ],
      "execution_count": 1,
      "outputs": [
        {
          "output_type": "stream",
          "text": [
            "Using TensorFlow backend.\n"
          ],
          "name": "stderr"
        }
      ]
    },
    {
      "cell_type": "code",
      "metadata": {
        "id": "FRYAfcu1WnFE",
        "colab_type": "code",
        "colab": {
          "base_uri": "https://localhost:8080/",
          "height": 34
        },
        "outputId": "c59c0dda-7ff5-4792-b1c4-3e8c32b29a1f"
      },
      "source": [
        "from google.colab import drive\n",
        "drive.mount('/content/drive')"
      ],
      "execution_count": 2,
      "outputs": [
        {
          "output_type": "stream",
          "text": [
            "Drive already mounted at /content/drive; to attempt to forcibly remount, call drive.mount(\"/content/drive\", force_remount=True).\n"
          ],
          "name": "stdout"
        }
      ]
    },
    {
      "cell_type": "markdown",
      "metadata": {
        "id": "ScViUunDVChJ",
        "colab_type": "text"
      },
      "source": [
        "The following line uses the absolute path directory to read in where the training photos are saved, remember to put an 'r' in front for non-linux devices."
      ]
    },
    {
      "cell_type": "code",
      "metadata": {
        "id": "CrPhn5VDVChK",
        "colab_type": "code",
        "colab": {}
      },
      "source": [
        "train = Path('/content/drive/My Drive/Colab Notebooks/train')\n",
        "test = Path('/content/drive/My Drive/Colab Notebooks/test')\n",
        "\n",
        "train_count = len(list(train.glob('*/*.jpg')))\n",
        "test_count = len(list(test.glob('*/*.jpg')))"
      ],
      "execution_count": 0,
      "outputs": []
    },
    {
      "cell_type": "code",
      "metadata": {
        "id": "HLdLRvZzVChM",
        "colab_type": "code",
        "colab": {
          "base_uri": "https://localhost:8080/",
          "height": 34
        },
        "outputId": "ada3c1a1-7226-4500-9280-4c8e27f99ebe"
      },
      "source": [
        "train_count\n",
        "#test_count"
      ],
      "execution_count": 4,
      "outputs": [
        {
          "output_type": "execute_result",
          "data": {
            "text/plain": [
              "153"
            ]
          },
          "metadata": {
            "tags": []
          },
          "execution_count": 4
        }
      ]
    },
    {
      "cell_type": "code",
      "metadata": {
        "id": "pMsSHr50VChP",
        "colab_type": "code",
        "colab": {
          "base_uri": "https://localhost:8080/",
          "height": 51
        },
        "outputId": "84204506-8241-4b00-8780-e8dd51dbba1a"
      },
      "source": [
        "CLASS_NAMES = np.array([item.name for item in train.glob('*') if item.name != \"LICENSE.txt\"])\n",
        "CLASS_NAMES"
      ],
      "execution_count": 5,
      "outputs": [
        {
          "output_type": "execute_result",
          "data": {
            "text/plain": [
              "array(['9', '6', '7', 'default', '8', '3', '1', '10', '13', '14', '15',\n",
              "       '2', '5', '11', '12', '4'], dtype='<U7')"
            ]
          },
          "metadata": {
            "tags": []
          },
          "execution_count": 5
        }
      ]
    },
    {
      "cell_type": "code",
      "metadata": {
        "id": "6q2AFxBjVChS",
        "colab_type": "code",
        "colab": {}
      },
      "source": [
        "BATCH_SIZE = 32\n",
        "IMG_HEIGHT = 648\n",
        "IMG_WIDTH = 864\n",
        "INPUT_HEIGHT = 24\n",
        "INPUT_WIDTH = 32\n",
        "\n",
        "STEPS_PER_EPOCH = np.ceil(train_count/BATCH_SIZE)"
      ],
      "execution_count": 0,
      "outputs": []
    },
    {
      "cell_type": "code",
      "metadata": {
        "id": "s8lGBqY6VChU",
        "colab_type": "code",
        "colab": {
          "base_uri": "https://localhost:8080/",
          "height": 51
        },
        "outputId": "4b0846c7-615e-46a6-9836-466ac79d336f"
      },
      "source": [
        "train_datagen = tf.keras.preprocessing.image.ImageDataGenerator(rescale=1./255)\n",
        "\n",
        "train_generator = train_datagen.flow_from_directory(directory=str(train),\n",
        "                                                     batch_size=BATCH_SIZE,\n",
        "                                                     shuffle=True,\n",
        "                                                     target_size=(INPUT_HEIGHT, INPUT_WIDTH),\n",
        "                                                     classes = list(CLASS_NAMES))\n",
        "\n",
        "\n",
        "test_datagen = tf.keras.preprocessing.image.ImageDataGenerator(rescale=1./255)\n",
        "\n",
        "validation_generator = test_datagen.flow_from_directory(directory=str(test),\n",
        "                                                     batch_size=int(BATCH_SIZE/3),\n",
        "                                                     shuffle=True,\n",
        "                                                     target_size=(INPUT_HEIGHT, INPUT_WIDTH),\n",
        "                                                     classes = list(CLASS_NAMES))\n",
        "\n",
        "\n"
      ],
      "execution_count": 7,
      "outputs": [
        {
          "output_type": "stream",
          "text": [
            "Found 153 images belonging to 16 classes.\n",
            "Found 51 images belonging to 16 classes.\n"
          ],
          "name": "stdout"
        }
      ]
    },
    {
      "cell_type": "code",
      "metadata": {
        "id": "Sk-y769UVChX",
        "colab_type": "code",
        "colab": {
          "base_uri": "https://localhost:8080/",
          "height": 258
        },
        "outputId": "8a8aa114-4ede-4e9f-8c58-9b43642bb92d"
      },
      "source": [
        "model = Sequential()\n",
        "\n",
        "model.add(Conv2D(32, (3, 4), \n",
        "                 activation='relu', \n",
        "                 padding='same', \n",
        "                 input_shape=(INPUT_HEIGHT,INPUT_WIDTH,3)))\n",
        "model.add(Conv2D(32, (3, 4), activation='relu', padding='same'))\n",
        "\n",
        "model.add(MaxPooling2D(pool_size=(2, 2)))\n",
        "model.add(Dropout(0.25))\n",
        "\n",
        "model.add(Conv2D(64, (3, 4), activation='relu', padding='same'))\n",
        "model.add(Conv2D(64, (3, 4), activation='relu', padding='same'))\n",
        "model.add(MaxPooling2D(pool_size=(2, 2)))\n",
        "model.add(Dropout(0.25))\n",
        "\n",
        "model.add(Flatten())\n",
        "model.add(Dense(512, activation='relu'))\n",
        "model.add(Dropout(0.5))\n",
        "\n",
        "model.add(Dense(16, activation='softmax'))"
      ],
      "execution_count": 8,
      "outputs": [
        {
          "output_type": "stream",
          "text": [
            "WARNING:tensorflow:From /usr/local/lib/python3.6/dist-packages/keras/backend/tensorflow_backend.py:66: The name tf.get_default_graph is deprecated. Please use tf.compat.v1.get_default_graph instead.\n",
            "\n",
            "WARNING:tensorflow:From /usr/local/lib/python3.6/dist-packages/keras/backend/tensorflow_backend.py:541: The name tf.placeholder is deprecated. Please use tf.compat.v1.placeholder instead.\n",
            "\n",
            "WARNING:tensorflow:From /usr/local/lib/python3.6/dist-packages/keras/backend/tensorflow_backend.py:4432: The name tf.random_uniform is deprecated. Please use tf.random.uniform instead.\n",
            "\n",
            "WARNING:tensorflow:From /usr/local/lib/python3.6/dist-packages/keras/backend/tensorflow_backend.py:4267: The name tf.nn.max_pool is deprecated. Please use tf.nn.max_pool2d instead.\n",
            "\n",
            "WARNING:tensorflow:From /usr/local/lib/python3.6/dist-packages/keras/backend/tensorflow_backend.py:148: The name tf.placeholder_with_default is deprecated. Please use tf.compat.v1.placeholder_with_default instead.\n",
            "\n",
            "WARNING:tensorflow:From /usr/local/lib/python3.6/dist-packages/keras/backend/tensorflow_backend.py:3733: calling dropout (from tensorflow.python.ops.nn_ops) with keep_prob is deprecated and will be removed in a future version.\n",
            "Instructions for updating:\n",
            "Please use `rate` instead of `keep_prob`. Rate should be set to `rate = 1 - keep_prob`.\n"
          ],
          "name": "stdout"
        }
      ]
    },
    {
      "cell_type": "code",
      "metadata": {
        "id": "-yYgL1lv0DGI",
        "colab_type": "code",
        "colab": {
          "base_uri": "https://localhost:8080/",
          "height": 561
        },
        "outputId": "4e483c39-4481-44fe-9066-31f2b65d60e8"
      },
      "source": [
        "model.summary()"
      ],
      "execution_count": 9,
      "outputs": [
        {
          "output_type": "stream",
          "text": [
            "Model: \"sequential_1\"\n",
            "_________________________________________________________________\n",
            "Layer (type)                 Output Shape              Param #   \n",
            "=================================================================\n",
            "conv2d_1 (Conv2D)            (None, 24, 32, 32)        1184      \n",
            "_________________________________________________________________\n",
            "conv2d_2 (Conv2D)            (None, 24, 32, 32)        12320     \n",
            "_________________________________________________________________\n",
            "max_pooling2d_1 (MaxPooling2 (None, 12, 16, 32)        0         \n",
            "_________________________________________________________________\n",
            "dropout_1 (Dropout)          (None, 12, 16, 32)        0         \n",
            "_________________________________________________________________\n",
            "conv2d_3 (Conv2D)            (None, 12, 16, 64)        24640     \n",
            "_________________________________________________________________\n",
            "conv2d_4 (Conv2D)            (None, 12, 16, 64)        49216     \n",
            "_________________________________________________________________\n",
            "max_pooling2d_2 (MaxPooling2 (None, 6, 8, 64)          0         \n",
            "_________________________________________________________________\n",
            "dropout_2 (Dropout)          (None, 6, 8, 64)          0         \n",
            "_________________________________________________________________\n",
            "flatten_1 (Flatten)          (None, 3072)              0         \n",
            "_________________________________________________________________\n",
            "dense_1 (Dense)              (None, 512)               1573376   \n",
            "_________________________________________________________________\n",
            "dropout_3 (Dropout)          (None, 512)               0         \n",
            "_________________________________________________________________\n",
            "dense_2 (Dense)              (None, 16)                8208      \n",
            "=================================================================\n",
            "Total params: 1,668,944\n",
            "Trainable params: 1,668,944\n",
            "Non-trainable params: 0\n",
            "_________________________________________________________________\n"
          ],
          "name": "stdout"
        }
      ]
    },
    {
      "cell_type": "code",
      "metadata": {
        "id": "l4g0xmdcyich",
        "colab_type": "code",
        "outputId": "89badd90-a1f1-4537-85d2-a8cc72582920",
        "colab": {
          "base_uri": "https://localhost:8080/",
          "height": 85
        }
      },
      "source": [
        "model.compile(loss='categorical_crossentropy',\n",
        "              optimizer='adam',\n",
        "              metrics=['accuracy'])"
      ],
      "execution_count": 10,
      "outputs": [
        {
          "output_type": "stream",
          "text": [
            "WARNING:tensorflow:From /usr/local/lib/python3.6/dist-packages/keras/optimizers.py:793: The name tf.train.Optimizer is deprecated. Please use tf.compat.v1.train.Optimizer instead.\n",
            "\n",
            "WARNING:tensorflow:From /usr/local/lib/python3.6/dist-packages/keras/backend/tensorflow_backend.py:3576: The name tf.log is deprecated. Please use tf.math.log instead.\n",
            "\n"
          ],
          "name": "stdout"
        }
      ]
    },
    {
      "cell_type": "code",
      "metadata": {
        "id": "NpCxpOk0VChZ",
        "colab_type": "code",
        "colab": {
          "base_uri": "https://localhost:8080/",
          "height": 1000
        },
        "outputId": "eabdcaf5-6bdf-4e35-a315-aa0969804604"
      },
      "source": [
        "hist = model.fit_generator(\n",
        "        train_generator,\n",
        "        steps_per_epoch=STEPS_PER_EPOCH,\n",
        "        epochs=50,\n",
        "        validation_data=validation_generator,\n",
        "        validation_steps=5)"
      ],
      "execution_count": 11,
      "outputs": [
        {
          "output_type": "stream",
          "text": [
            "WARNING:tensorflow:From /usr/local/lib/python3.6/dist-packages/tensorflow/python/ops/math_grad.py:1250: add_dispatch_support.<locals>.wrapper (from tensorflow.python.ops.array_ops) is deprecated and will be removed in a future version.\n",
            "Instructions for updating:\n",
            "Use tf.where in 2.0, which has the same broadcast rule as np.where\n",
            "Epoch 1/50\n",
            "5/5 [==============================] - 3s 693ms/step - loss: 2.7991 - acc: 0.0722 - val_loss: 2.7457 - val_acc: 0.1200\n",
            "Epoch 2/50\n",
            "5/5 [==============================] - 3s 582ms/step - loss: 2.7516 - acc: 0.1347 - val_loss: 2.7223 - val_acc: 0.0976\n",
            "Epoch 3/50\n",
            "5/5 [==============================] - 3s 539ms/step - loss: 2.7059 - acc: 0.1303 - val_loss: 2.6405 - val_acc: 0.2195\n",
            "Epoch 4/50\n",
            "5/5 [==============================] - 3s 508ms/step - loss: 2.6058 - acc: 0.1584 - val_loss: 2.3196 - val_acc: 0.3902\n",
            "Epoch 5/50\n",
            "5/5 [==============================] - 3s 542ms/step - loss: 2.3204 - acc: 0.2510 - val_loss: 1.8275 - val_acc: 0.6341\n",
            "Epoch 6/50\n",
            "5/5 [==============================] - 3s 513ms/step - loss: 1.7892 - acc: 0.4477 - val_loss: 1.1723 - val_acc: 0.8049\n",
            "Epoch 7/50\n",
            "5/5 [==============================] - 3s 558ms/step - loss: 1.3426 - acc: 0.5775 - val_loss: 0.7574 - val_acc: 0.9600\n",
            "Epoch 8/50\n",
            "5/5 [==============================] - 3s 623ms/step - loss: 1.0471 - acc: 0.6856 - val_loss: 0.4116 - val_acc: 0.9024\n",
            "Epoch 9/50\n",
            "5/5 [==============================] - 3s 517ms/step - loss: 0.8046 - acc: 0.7878 - val_loss: 0.3208 - val_acc: 1.0000\n",
            "Epoch 10/50\n",
            "5/5 [==============================] - 3s 509ms/step - loss: 0.5677 - acc: 0.8275 - val_loss: 0.1741 - val_acc: 1.0000\n",
            "Epoch 11/50\n",
            "5/5 [==============================] - 3s 530ms/step - loss: 0.4882 - acc: 0.8435 - val_loss: 0.0858 - val_acc: 1.0000\n",
            "Epoch 12/50\n",
            "5/5 [==============================] - 3s 516ms/step - loss: 0.4162 - acc: 0.8474 - val_loss: 0.1158 - val_acc: 0.9756\n",
            "Epoch 13/50\n",
            "5/5 [==============================] - 3s 555ms/step - loss: 0.2842 - acc: 0.9293 - val_loss: 0.0241 - val_acc: 1.0000\n",
            "Epoch 14/50\n",
            "5/5 [==============================] - 3s 593ms/step - loss: 0.2239 - acc: 0.9326 - val_loss: 0.0472 - val_acc: 1.0000\n",
            "Epoch 15/50\n",
            "5/5 [==============================] - 3s 508ms/step - loss: 0.2347 - acc: 0.9370 - val_loss: 0.0197 - val_acc: 1.0000\n",
            "Epoch 16/50\n",
            "5/5 [==============================] - 3s 531ms/step - loss: 0.1452 - acc: 0.9545 - val_loss: 0.0153 - val_acc: 1.0000\n",
            "Epoch 17/50\n",
            "5/5 [==============================] - 3s 524ms/step - loss: 0.1104 - acc: 0.9874 - val_loss: 0.0341 - val_acc: 0.9756\n",
            "Epoch 18/50\n",
            "5/5 [==============================] - 3s 536ms/step - loss: 0.0974 - acc: 0.9671 - val_loss: 0.0064 - val_acc: 1.0000\n",
            "Epoch 19/50\n",
            "5/5 [==============================] - 3s 551ms/step - loss: 0.0928 - acc: 0.9874 - val_loss: 0.0033 - val_acc: 1.0000\n",
            "Epoch 20/50\n",
            "5/5 [==============================] - 3s 593ms/step - loss: 0.0947 - acc: 0.9671 - val_loss: 0.0015 - val_acc: 1.0000\n",
            "Epoch 21/50\n",
            "5/5 [==============================] - 3s 532ms/step - loss: 0.0447 - acc: 0.9937 - val_loss: 0.0034 - val_acc: 1.0000\n",
            "Epoch 22/50\n",
            "5/5 [==============================] - 3s 527ms/step - loss: 0.0612 - acc: 0.9922 - val_loss: 5.2727e-04 - val_acc: 1.0000\n",
            "Epoch 23/50\n",
            "5/5 [==============================] - 3s 505ms/step - loss: 0.0538 - acc: 0.9937 - val_loss: 5.5704e-04 - val_acc: 1.0000\n",
            "Epoch 24/50\n",
            "5/5 [==============================] - 3s 525ms/step - loss: 0.0439 - acc: 0.9937 - val_loss: 6.6697e-04 - val_acc: 1.0000\n",
            "Epoch 25/50\n",
            "5/5 [==============================] - 3s 557ms/step - loss: 0.0432 - acc: 0.9874 - val_loss: 8.7645e-04 - val_acc: 1.0000\n",
            "Epoch 26/50\n",
            "5/5 [==============================] - 3s 620ms/step - loss: 0.1723 - acc: 0.9685 - val_loss: 1.0003e-04 - val_acc: 1.0000\n",
            "Epoch 27/50\n",
            "5/5 [==============================] - 2s 494ms/step - loss: 0.0998 - acc: 0.9811 - val_loss: 0.0011 - val_acc: 1.0000\n",
            "Epoch 28/50\n",
            "5/5 [==============================] - 3s 548ms/step - loss: 0.0467 - acc: 0.9859 - val_loss: 0.0012 - val_acc: 1.0000\n",
            "Epoch 29/50\n",
            "5/5 [==============================] - 3s 529ms/step - loss: 0.0382 - acc: 0.9937 - val_loss: 0.0010 - val_acc: 1.0000\n",
            "Epoch 30/50\n",
            "5/5 [==============================] - 3s 513ms/step - loss: 0.0314 - acc: 1.0000 - val_loss: 4.0358e-04 - val_acc: 1.0000\n",
            "Epoch 31/50\n",
            "5/5 [==============================] - 3s 571ms/step - loss: 0.0167 - acc: 0.9937 - val_loss: 1.7605e-04 - val_acc: 1.0000\n",
            "Epoch 32/50\n",
            "5/5 [==============================] - 3s 598ms/step - loss: 0.0149 - acc: 0.9937 - val_loss: 8.5566e-05 - val_acc: 1.0000\n",
            "Epoch 33/50\n",
            "5/5 [==============================] - 3s 533ms/step - loss: 0.0307 - acc: 0.9874 - val_loss: 1.6240e-04 - val_acc: 1.0000\n",
            "Epoch 34/50\n",
            "5/5 [==============================] - 3s 528ms/step - loss: 0.0392 - acc: 0.9937 - val_loss: 1.3476e-04 - val_acc: 1.0000\n",
            "Epoch 35/50\n",
            "5/5 [==============================] - 3s 543ms/step - loss: 0.0145 - acc: 0.9922 - val_loss: 5.5958e-05 - val_acc: 1.0000\n",
            "Epoch 36/50\n",
            "5/5 [==============================] - 3s 508ms/step - loss: 0.0160 - acc: 0.9937 - val_loss: 6.0915e-05 - val_acc: 1.0000\n",
            "Epoch 37/50\n",
            "5/5 [==============================] - 3s 560ms/step - loss: 0.0111 - acc: 1.0000 - val_loss: 2.2047e-05 - val_acc: 1.0000\n",
            "Epoch 38/50\n",
            "5/5 [==============================] - 3s 592ms/step - loss: 0.0052 - acc: 1.0000 - val_loss: 8.1296e-06 - val_acc: 1.0000\n",
            "Epoch 39/50\n",
            "5/5 [==============================] - 3s 532ms/step - loss: 0.0221 - acc: 0.9874 - val_loss: 4.7225e-05 - val_acc: 1.0000\n",
            "Epoch 40/50\n",
            "5/5 [==============================] - 3s 513ms/step - loss: 0.0087 - acc: 1.0000 - val_loss: 4.9632e-05 - val_acc: 1.0000\n",
            "Epoch 41/50\n",
            "5/5 [==============================] - 3s 523ms/step - loss: 0.0362 - acc: 0.9922 - val_loss: 6.6286e-05 - val_acc: 1.0000\n",
            "Epoch 42/50\n",
            "5/5 [==============================] - 3s 514ms/step - loss: 0.0104 - acc: 0.9937 - val_loss: 6.6355e-04 - val_acc: 1.0000\n",
            "Epoch 43/50\n",
            "5/5 [==============================] - 3s 569ms/step - loss: 0.0419 - acc: 0.9937 - val_loss: 4.6931e-04 - val_acc: 1.0000\n",
            "Epoch 44/50\n",
            "5/5 [==============================] - 3s 635ms/step - loss: 0.0638 - acc: 0.9874 - val_loss: 1.6861e-05 - val_acc: 1.0000\n",
            "Epoch 45/50\n",
            "5/5 [==============================] - 2s 494ms/step - loss: 0.0496 - acc: 0.9874 - val_loss: 7.7858e-04 - val_acc: 1.0000\n",
            "Epoch 46/50\n",
            "5/5 [==============================] - 3s 531ms/step - loss: 0.0516 - acc: 0.9874 - val_loss: 7.6644e-04 - val_acc: 1.0000\n",
            "Epoch 47/50\n",
            "5/5 [==============================] - 3s 528ms/step - loss: 0.0400 - acc: 0.9796 - val_loss: 6.5239e-04 - val_acc: 1.0000\n",
            "Epoch 48/50\n",
            "5/5 [==============================] - 3s 514ms/step - loss: 0.0271 - acc: 0.9937 - val_loss: 1.0848e-04 - val_acc: 1.0000\n",
            "Epoch 49/50\n",
            "5/5 [==============================] - 3s 562ms/step - loss: 0.0426 - acc: 0.9937 - val_loss: 6.8475e-05 - val_acc: 1.0000\n",
            "Epoch 50/50\n",
            "5/5 [==============================] - 3s 618ms/step - loss: 0.0087 - acc: 1.0000 - val_loss: 3.7435e-05 - val_acc: 1.0000\n"
          ],
          "name": "stdout"
        }
      ]
    },
    {
      "cell_type": "code",
      "metadata": {
        "id": "BO4Izxb30rqD",
        "colab_type": "code",
        "colab": {
          "base_uri": "https://localhost:8080/",
          "height": 295
        },
        "outputId": "6cc147ed-40df-47dc-e832-5dca7b29af49"
      },
      "source": [
        "plt.plot(hist.history['loss'])\n",
        "plt.plot(hist.history['val_loss'])\n",
        "plt.title('Model loss')\n",
        "plt.ylabel('Loss')\n",
        "plt.xlabel('Epoch')\n",
        "plt.legend(['Train', 'Val'], loc='upper right')\n",
        "plt.show()"
      ],
      "execution_count": 12,
      "outputs": [
        {
          "output_type": "display_data",
          "data": {
            "image/png": "[encoded data removed]",
            "text/plain": [
              "<Figure size 432x288 with 1 Axes>"
            ]
          },
          "metadata": {
            "tags": []
          }
        }
      ]
    },
    {
      "cell_type": "code",
      "metadata": {
        "id": "h388Qx6j_jlo",
        "colab_type": "code",
        "colab": {
          "base_uri": "https://localhost:8080/",
          "height": 51
        },
        "outputId": "69a3880c-4fe6-412e-eea5-be9694af86c5"
      },
      "source": [
        "model.evaluate(x=validation_generator)[1]"
      ],
      "execution_count": 13,
      "outputs": [
        {
          "output_type": "stream",
          "text": [
            "6/6 [==============================] - 1s 99ms/step\n"
          ],
          "name": "stdout"
        },
        {
          "output_type": "execute_result",
          "data": {
            "text/plain": [
              "1.0"
            ]
          },
          "metadata": {
            "tags": []
          },
          "execution_count": 13
        }
      ]
    },
    {
      "cell_type": "code",
      "metadata": {
        "id": "tABv2ZTu4nTt",
        "colab_type": "code",
        "colab": {}
      },
      "source": [
        "from PIL import Image\n",
        "import numpy as np\n",
        "from skimage import transform\n",
        "def load(filename):\n",
        "   np_image = Image.open(filename)\n",
        "   np_image = np.array(np_image).astype('float32')/255\n",
        "   np_image = transform.resize(np_image, (24, 32, 3))\n",
        "   np_image = np.expand_dims(np_image, axis=0)\n",
        "   return np_image\n",
        "\n",
        "image = load('/content/drive/My Drive/Colab Notebooks/test/12/5_right.jpg')\n",
        "results = model.predict(image)"
      ],
      "execution_count": 0,
      "outputs": []
    },
    {
      "cell_type": "code",
      "metadata": {
        "id": "xcod8L9Q-126",
        "colab_type": "code",
        "colab": {
          "base_uri": "https://localhost:8080/",
          "height": 34
        },
        "outputId": "ce059c75-98c0-4b3c-867e-6acc5bd69483"
      },
      "source": [
        "CLASS_NAMES[np.argmax(results)]\n",
        "\n"
      ],
      "execution_count": 52,
      "outputs": [
        {
          "output_type": "execute_result",
          "data": {
            "text/plain": [
              "'12'"
            ]
          },
          "metadata": {
            "tags": []
          },
          "execution_count": 52
        }
      ]
    },
    {
      "cell_type": "code",
      "metadata": {
        "id": "PxNTkVYy1b99",
        "colab_type": "code",
        "colab": {}
      },
      "source": [
        "model.save('/content/drive/My Drive/Colab Notebooks/mymodel.h5')"
      ],
      "execution_count": 0,
      "outputs": []
    },
    {
      "cell_type": "markdown",
      "metadata": {
        "id": "UqeTEhPWVChb",
        "colab_type": "text"
      },
      "source": [
        "From this point onwards, refer to https://www.tensorflow.org/tutorials/load_data/images#load_using_tfdata under \"load using tf.data\" to be able to load the dataset in keras. "
      ]
    }
  ]
}